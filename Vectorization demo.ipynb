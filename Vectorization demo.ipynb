{
 "cells": [
  {
   "cell_type": "code",
   "execution_count": 2,
   "id": "ddaa93fa-48e2-4170-9323-68052e9830c3",
   "metadata": {},
   "outputs": [
    {
     "name": "stdout",
     "output_type": "stream",
     "text": [
      "[1 2 3 4]\n"
     ]
    }
   ],
   "source": [
    "import numpy as np\n",
    "\n",
    "a = np.array([1,2,3,4])\n",
    "print(a)"
   ]
  },
  {
   "cell_type": "code",
   "execution_count": 3,
   "id": "0760dc38-8c11-4ea2-81e1-f55caef013fc",
   "metadata": {},
   "outputs": [
    {
     "name": "stdout",
     "output_type": "stream",
     "text": [
      "250103.83843567665\n",
      "Vectorized version:1.0030269622802734ms\n",
      "250103.8384356825\n",
      "Non vectorized version (for-loop):518.9995765686035ms\n"
     ]
    }
   ],
   "source": [
    "import time \n",
    "\n",
    "a = np.random.rand(1000000)\n",
    "b = np.random.rand(1000000)\n",
    "\n",
    "tic = time.time()\n",
    "c = np.dot(a,b)\n",
    "toc = time.time()\n",
    "print(c)\n",
    "print(\"Vectorized version:\" + str(1000*(toc-tic))+\"ms\")\n",
    "\n",
    "c = 0\n",
    "tic = time.time()\n",
    "for i in range(1000000):\n",
    "    c += a[i]*b[i]\n",
    "\n",
    "toc = time.time()\n",
    "print(c)\n",
    "print(\"Non vectorized version (for-loop):\" + str(1000*(toc-tic))+\"ms\")\n",
    "#vectorized version works almost 300 times faster!"
   ]
  },
  {
   "cell_type": "markdown",
   "id": "77c9f3fb-acac-4352-a92b-2a3d8ee63bec",
   "metadata": {},
   "source": [
    "# Broadcasting Example:"
   ]
  },
  {
   "cell_type": "code",
   "execution_count": 4,
   "id": "67b461ad-eb14-4480-992f-89b92dc0eb27",
   "metadata": {},
   "outputs": [
    {
     "name": "stdout",
     "output_type": "stream",
     "text": [
      "[[ 56.    0.    4.4  68. ]\n",
      " [  1.2 104.   52.    8. ]\n",
      " [  1.8 135.   99.    0.9]]\n"
     ]
    }
   ],
   "source": [
    "A = np.array([[56.0,0.0,4.4,68.0],[1.2,104.0,52.0,8.0],[1.8,135.0,99.0,0.9]])\n",
    "print(A)"
   ]
  },
  {
   "cell_type": "code",
   "execution_count": 5,
   "id": "fe8df1cd-f6ff-4ab7-a160-eee70d25f2b2",
   "metadata": {},
   "outputs": [
    {
     "name": "stdout",
     "output_type": "stream",
     "text": [
      "[ 59.  239.  155.4  76.9]\n"
     ]
    }
   ],
   "source": [
    "cal = A.sum(axis=0)\n",
    "print(cal)"
   ]
  },
  {
   "cell_type": "code",
   "execution_count": 6,
   "id": "d0d836be-275e-4bc8-9105-ea1bfa5afd84",
   "metadata": {},
   "outputs": [
    {
     "name": "stdout",
     "output_type": "stream",
     "text": [
      "[[94.91525424  0.          2.83140283 88.42652796]\n",
      " [ 2.03389831 43.51464435 33.46203346 10.40312094]\n",
      " [ 3.05084746 56.48535565 63.70656371  1.17035111]]\n"
     ]
    }
   ],
   "source": [
    "percentage = 100*A/cal.reshape(1,4)\n",
    "print(percentage)"
   ]
  },
  {
   "cell_type": "markdown",
   "id": "a0df122d-fef9-4a71-9a10-1dd10c27dcbf",
   "metadata": {},
   "source": [
    "## Notes on Numpy/Python vectors"
   ]
  },
  {
   "cell_type": "code",
   "execution_count": 7,
   "id": "ca4814fb-a35a-496e-8e9a-9183a8ae504e",
   "metadata": {},
   "outputs": [
    {
     "name": "stdout",
     "output_type": "stream",
     "text": [
      "[-2.20928873 -0.84936877  0.43558676 -0.95267596 -0.75491445]\n"
     ]
    }
   ],
   "source": [
    "a = np.random.randn(5)\n",
    "print(a)"
   ]
  },
  {
   "cell_type": "code",
   "execution_count": 8,
   "id": "ca8b6519-a8e0-4393-8afc-83ff9ed6a973",
   "metadata": {},
   "outputs": [
    {
     "name": "stdout",
     "output_type": "stream",
     "text": [
      "(5,)\n"
     ]
    }
   ],
   "source": [
    "print(a.shape)\n",
    "#Rank 1 array"
   ]
  },
  {
   "cell_type": "code",
   "execution_count": 9,
   "id": "0a9eb31b-aaaa-4c70-9cb3-9923e0316ba3",
   "metadata": {},
   "outputs": [
    {
     "name": "stdout",
     "output_type": "stream",
     "text": [
      "[-2.20928873 -0.84936877  0.43558676 -0.95267596 -0.75491445]\n"
     ]
    }
   ],
   "source": [
    "print(a.T)\n",
    "#maintains same shape"
   ]
  },
  {
   "cell_type": "code",
   "execution_count": 10,
   "id": "1617d57a-5c57-4d5d-9438-c3ed5e3dc404",
   "metadata": {},
   "outputs": [
    {
     "name": "stdout",
     "output_type": "stream",
     "text": [
      "7.26960710902738\n"
     ]
    }
   ],
   "source": [
    "print(np.dot(a,a.T))\n",
    "#you get back a number"
   ]
  },
  {
   "cell_type": "markdown",
   "id": "0f7b6924-7c10-487c-b60f-dc06bf1a282d",
   "metadata": {},
   "source": [
    "### Using a shape with higher rank"
   ]
  },
  {
   "cell_type": "code",
   "execution_count": 11,
   "id": "7fe53028-92a3-43df-a2c9-1c0c5782cbff",
   "metadata": {},
   "outputs": [
    {
     "name": "stdout",
     "output_type": "stream",
     "text": [
      "[[-1.38052236]\n",
      " [ 1.01835972]\n",
      " [-1.16932992]\n",
      " [-1.19981061]\n",
      " [ 1.08666713]]\n"
     ]
    }
   ],
   "source": [
    "a = np.random.randn(5,1)\n",
    "print(a)"
   ]
  },
  {
   "cell_type": "code",
   "execution_count": 12,
   "id": "14cd6a5b-7dbd-49f7-9cdf-0e227f389d57",
   "metadata": {},
   "outputs": [
    {
     "name": "stdout",
     "output_type": "stream",
     "text": [
      "[[-1.38052236  1.01835972 -1.16932992 -1.19981061  1.08666713]]\n"
     ]
    }
   ],
   "source": [
    "print(a.T)"
   ]
  },
  {
   "cell_type": "code",
   "execution_count": 13,
   "id": "7f3fa4c4-dfde-41c1-b564-4b48d7236d38",
   "metadata": {},
   "outputs": [
    {
     "name": "stdout",
     "output_type": "stream",
     "text": [
      "[[ 1.90584199 -1.40586837  1.6142861   1.65636538 -1.50016828]\n",
      " [-1.40586837  1.03705653 -1.19079849 -1.2218388   1.10661804]\n",
      " [ 1.6142861  -1.19079849  1.36733245  1.40297444 -1.27067239]\n",
      " [ 1.65636538 -1.2218388   1.40297444  1.4395455  -1.30379476]\n",
      " [-1.50016828  1.10661804 -1.27067239 -1.30379476  1.18084546]]\n"
     ]
    }
   ],
   "source": [
    "print(np.dot(a,a.T))"
   ]
  },
  {
   "cell_type": "code",
   "execution_count": 16,
   "id": "9b059aa0-1148-43b9-a444-327a7cd75eaa",
   "metadata": {},
   "outputs": [
    {
     "name": "stdout",
     "output_type": "stream",
     "text": [
      "(2, 2, 1)\n"
     ]
    }
   ],
   "source": [
    "a = np.array([[[1],[2]],[[3],[4]]])\n",
    "print(a.shape)"
   ]
  },
  {
   "cell_type": "code",
   "execution_count": 21,
   "id": "48fac1d6-135e-4a23-8726-73d8e7641420",
   "metadata": {},
   "outputs": [
    {
     "ename": "ValueError",
     "evalue": "operands could not be broadcast together with shapes (4,3) (3,2) ",
     "output_type": "error",
     "traceback": [
      "\u001b[1;31m---------------------------------------------------------------------------\u001b[0m",
      "\u001b[1;31mValueError\u001b[0m                                Traceback (most recent call last)",
      "Cell \u001b[1;32mIn[21], line 5\u001b[0m\n\u001b[0;32m      1\u001b[0m a\u001b[38;5;241m=\u001b[39mnp\u001b[38;5;241m.\u001b[39mrandom\u001b[38;5;241m.\u001b[39mrandn(\u001b[38;5;241m4\u001b[39m,\u001b[38;5;241m3\u001b[39m)\n\u001b[0;32m      3\u001b[0m b\u001b[38;5;241m=\u001b[39mnp\u001b[38;5;241m.\u001b[39mrandom\u001b[38;5;241m.\u001b[39mrandn(\u001b[38;5;241m3\u001b[39m,\u001b[38;5;241m2\u001b[39m)\n\u001b[1;32m----> 5\u001b[0m c \u001b[38;5;241m=\u001b[39m \u001b[43ma\u001b[49m\u001b[43m \u001b[49m\u001b[38;5;241;43m*\u001b[39;49m\u001b[43m \u001b[49m\u001b[43mb\u001b[49m\n\u001b[0;32m      6\u001b[0m \u001b[38;5;28mprint\u001b[39m(c\u001b[38;5;241m.\u001b[39mshape)\n",
      "\u001b[1;31mValueError\u001b[0m: operands could not be broadcast together with shapes (4,3) (3,2) "
     ]
    }
   ],
   "source": [
    "a=np.random.randn(4,3)\n",
    "\n",
    "b=np.random.randn(3,2)\n",
    "\n",
    "c = a * b\n",
    "print(c.shape)"
   ]
  },
  {
   "cell_type": "code",
   "execution_count": 24,
   "id": "d693ad3d-7192-4864-887f-0a8544540e04",
   "metadata": {},
   "outputs": [
    {
     "name": "stdout",
     "output_type": "stream",
     "text": [
      "(3, 4)\n"
     ]
    }
   ],
   "source": [
    "a=np.random.randn(3,4)\n",
    "\n",
    "b=np.random.randn(4,1)\n",
    "\n",
    "c= a*b.T\n",
    "print(c.shape)"
   ]
  },
  {
   "cell_type": "code",
   "execution_count": null,
   "id": "136bcb4e-d713-4dbe-b3df-2bfc34dd9c23",
   "metadata": {},
   "outputs": [],
   "source": []
  }
 ],
 "metadata": {
  "kernelspec": {
   "display_name": "Python 3 (ipykernel)",
   "language": "python",
   "name": "python3"
  },
  "language_info": {
   "codemirror_mode": {
    "name": "ipython",
    "version": 3
   },
   "file_extension": ".py",
   "mimetype": "text/x-python",
   "name": "python",
   "nbconvert_exporter": "python",
   "pygments_lexer": "ipython3",
   "version": "3.12.1"
  }
 },
 "nbformat": 4,
 "nbformat_minor": 5
}
